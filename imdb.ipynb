{
 "cells": [
  {
   "cell_type": "code",
   "execution_count": 1,
   "metadata": {},
   "outputs": [],
   "source": [
    "import os\n",
    "import pandas as pd\n",
    "import numpy as np\n",
    "import csv\n",
    "import re\n",
    "\n",
    "from sqlalchemy import inspect\n",
    "from sqlalchemy import create_engine, MetaData, Table, text, select\n",
    "from sqlalchemy.orm import sessionmaker\n",
    "\n",
    "import time\n",
    "\n",
    "import seaborn as sns\n",
    "import matplotlib.pyplot as plt\n",
    "\n",
    "import logging\n",
    "logging.basicConfig(level=logging.DEBUG)"
   ]
  },
  {
   "cell_type": "markdown",
   "metadata": {},
   "source": [
    "### Accessing the database"
   ]
  },
  {
   "cell_type": "code",
   "execution_count": 2,
   "metadata": {},
   "outputs": [],
   "source": [
    "# create engine\n",
    "engine = create_engine(\"postgresql://adityakanthale@localhost/imdb-yin\")\n",
    "args, kwargs = engine.dialect.create_connect_args(engine.url)\n",
    "\n",
    "# load metadata\n",
    "metadata = MetaData()\n",
    "metadata.create_all(engine)\n",
    "\n",
    "# inspector to view columns and database\n",
    "inspector = inspect(engine)"
   ]
  },
  {
   "cell_type": "code",
   "execution_count": 3,
   "metadata": {},
   "outputs": [],
   "source": [
    "# load table\n",
    "cast_info_tb = Table('cast_info', metadata)\n",
    "\n",
    "#create session\n",
    "Session = sessionmaker(bind=engine)\n",
    "session = Session()"
   ]
  },
  {
   "cell_type": "markdown",
   "metadata": {},
   "source": [
    "### Pre-processing (Generic)"
   ]
  },
  {
   "cell_type": "markdown",
   "metadata": {},
   "source": [
    "Data Pre-processing:\n",
    "\n",
    "1. Read join tables\n",
    "2. Locate foreign key, sensitive attributes\n",
    "1. identify continuous values\n",
    "    1. bin them\n",
    "    2. add these as new columns\n",
    "\n",
    "Routine:\n",
    "\n",
    "1. Find distribution of attributes highly-correlated with the sensitive attrs\n",
    "2. Find join over samples with threshold a threshold for minority class???\n",
    "3. Maximal uncovered Pattern"
   ]
  },
  {
   "cell_type": "code",
   "execution_count": 4,
   "metadata": {},
   "outputs": [],
   "source": [
    "def write_table_to_csv(table_name, out_dir='./data/imdb'):\n",
    "\n",
    "    with engine.connect() as conn:\n",
    "        query = text(f\"SELECT * FROM {table_name}\")\n",
    "        rs = conn.execute(query)\n",
    "        with open(f\"{out_dir}/{table_name}.csv\", 'w') as f:\n",
    "            outcsv = csv.writer(f)\n",
    "            outcsv.writerow(rs.keys())\n",
    "            outcsv.writerows(rs)"
   ]
  },
  {
   "cell_type": "code",
   "execution_count": 115,
   "metadata": {},
   "outputs": [],
   "source": [
    "write_table_to_csv('ROLE_TYPE')\n",
    "write_table_to_csv('MOVIE_COMPANIES')\n",
    "write_table_to_csv('CAST_INFO')"
   ]
  },
  {
   "cell_type": "code",
   "execution_count": 5,
   "metadata": {},
   "outputs": [],
   "source": [
    "write_table_to_csv('NAME')\n",
    "write_table_to_csv('AKA_NAME')"
   ]
  },
  {
   "cell_type": "code",
   "execution_count": 5,
   "metadata": {},
   "outputs": [],
   "source": [
    "def write_table_to_df(table_name):\n",
    "    df = pd.DataFrame()\n",
    "    with engine.connect() as conn:\n",
    "        df = pd.read_sql_table(table_name=str(table_name).lower(), con=conn)\n",
    "        df.head()\n",
    "    return df"
   ]
  },
  {
   "cell_type": "code",
   "execution_count": 6,
   "metadata": {},
   "outputs": [],
   "source": [
    "movie_companies_df = write_table_to_df('MOVIE_COMPANIES')"
   ]
  },
  {
   "cell_type": "code",
   "execution_count": 7,
   "metadata": {},
   "outputs": [],
   "source": [
    "role_type_df = write_table_to_df('ROLE_TYPE')\n",
    "cast_info_df = write_table_to_df('CAST_INFO')"
   ]
  },
  {
   "cell_type": "code",
   "execution_count": 9,
   "metadata": {},
   "outputs": [],
   "source": [
    "aka_name = write_table_to_df('AKA_NAME')\n",
    "name = write_table_to_df('NAME')"
   ]
  },
  {
   "cell_type": "code",
   "execution_count": 10,
   "metadata": {},
   "outputs": [],
   "source": [
    "continent = write_table_to_df('CONTINENT')\n",
    "company_name = write_table_to_df('COMPANY_NAME')"
   ]
  },
  {
   "cell_type": "code",
   "execution_count": 15,
   "metadata": {},
   "outputs": [],
   "source": [
    "write_table_to_csv(continent)\n",
    "write_table_to_csv(company_name)"
   ]
  },
  {
   "cell_type": "code",
   "execution_count": 11,
   "metadata": {},
   "outputs": [
    {
     "data": {
      "text/html": [
       "<div>\n",
       "<style scoped>\n",
       "    .dataframe tbody tr th:only-of-type {\n",
       "        vertical-align: middle;\n",
       "    }\n",
       "\n",
       "    .dataframe tbody tr th {\n",
       "        vertical-align: top;\n",
       "    }\n",
       "\n",
       "    .dataframe thead th {\n",
       "        text-align: right;\n",
       "    }\n",
       "</style>\n",
       "<table border=\"1\" class=\"dataframe\">\n",
       "  <thead>\n",
       "    <tr style=\"text-align: right;\">\n",
       "      <th></th>\n",
       "      <th>id</th>\n",
       "      <th>movie_id</th>\n",
       "      <th>company_id</th>\n",
       "      <th>company_type_id</th>\n",
       "      <th>note</th>\n",
       "      <th>area_code</th>\n",
       "      <th>continent_code</th>\n",
       "      <th>year</th>\n",
       "      <th>area</th>\n",
       "      <th>remark</th>\n",
       "    </tr>\n",
       "  </thead>\n",
       "  <tbody>\n",
       "    <tr>\n",
       "      <th>0</th>\n",
       "      <td>131</td>\n",
       "      <td>405</td>\n",
       "      <td>27</td>\n",
       "      <td>1</td>\n",
       "      <td>(2001) (UK) (TV)</td>\n",
       "      <td>[gb]</td>\n",
       "      <td>EU</td>\n",
       "      <td>[2001]</td>\n",
       "      <td>UK</td>\n",
       "      <td>TV</td>\n",
       "    </tr>\n",
       "    <tr>\n",
       "      <th>1</th>\n",
       "      <td>132</td>\n",
       "      <td>414</td>\n",
       "      <td>39</td>\n",
       "      <td>1</td>\n",
       "      <td>(2009) (UK) (TV)</td>\n",
       "      <td>[gb]</td>\n",
       "      <td>EU</td>\n",
       "      <td>[2009]</td>\n",
       "      <td>UK</td>\n",
       "      <td>TV</td>\n",
       "    </tr>\n",
       "    <tr>\n",
       "      <th>2</th>\n",
       "      <td>133</td>\n",
       "      <td>579</td>\n",
       "      <td>40</td>\n",
       "      <td>1</td>\n",
       "      <td>(2012) (worldwide) (DVD)</td>\n",
       "      <td>[dk]</td>\n",
       "      <td>EU</td>\n",
       "      <td>[2012]</td>\n",
       "      <td>worldwide</td>\n",
       "      <td>DVD</td>\n",
       "    </tr>\n",
       "    <tr>\n",
       "      <th>3</th>\n",
       "      <td>134</td>\n",
       "      <td>580</td>\n",
       "      <td>40</td>\n",
       "      <td>1</td>\n",
       "      <td>(2012) (worldwide) (DVD)</td>\n",
       "      <td>[dk]</td>\n",
       "      <td>EU</td>\n",
       "      <td>[2012]</td>\n",
       "      <td>worldwide</td>\n",
       "      <td>DVD</td>\n",
       "    </tr>\n",
       "    <tr>\n",
       "      <th>4</th>\n",
       "      <td>140</td>\n",
       "      <td>581</td>\n",
       "      <td>46</td>\n",
       "      <td>1</td>\n",
       "      <td>(2010) (Hungary) (TV) (re-release)</td>\n",
       "      <td>[hu]</td>\n",
       "      <td>EU</td>\n",
       "      <td>[2010]</td>\n",
       "      <td>Hungary</td>\n",
       "      <td>TV,re-release</td>\n",
       "    </tr>\n",
       "  </tbody>\n",
       "</table>\n",
       "</div>"
      ],
      "text/plain": [
       "    id  movie_id  company_id  company_type_id  \\\n",
       "0  131       405          27                1   \n",
       "1  132       414          39                1   \n",
       "2  133       579          40                1   \n",
       "3  134       580          40                1   \n",
       "4  140       581          46                1   \n",
       "\n",
       "                                 note area_code continent_code    year  \\\n",
       "0                    (2001) (UK) (TV)      [gb]             EU  [2001]   \n",
       "1                    (2009) (UK) (TV)      [gb]             EU  [2009]   \n",
       "2            (2012) (worldwide) (DVD)      [dk]             EU  [2012]   \n",
       "3            (2012) (worldwide) (DVD)      [dk]             EU  [2012]   \n",
       "4  (2010) (Hungary) (TV) (re-release)      [hu]             EU  [2010]   \n",
       "\n",
       "        area         remark  \n",
       "0         UK             TV  \n",
       "1         UK             TV  \n",
       "2  worldwide            DVD  \n",
       "3  worldwide            DVD  \n",
       "4    Hungary  TV,re-release  "
      ]
     },
     "execution_count": 11,
     "metadata": {},
     "output_type": "execute_result"
    }
   ],
   "source": [
    "\"\"\"\n",
    "Pre-processing for the note column in the movie companies table\n",
    "\n",
    "\"\"\"\n",
    "\n",
    "def check_years(yr):\n",
    "  year_pattern = r\"\\d{4}(?:-)?\" # 2008, 2008-2012, 2008-\n",
    "  return yr and re.match(year_pattern, yr)\n",
    "\n",
    "def check_area(ar):\n",
    "  area_len = 20\n",
    "  area_pattern = r\"^[a-zA-Z\\s]+$\"\n",
    "  return ar and len(ar) <= area_len and re.match(area_pattern, ar)\n",
    "\n",
    "def convert_to_valid(arr):\n",
    "  res = [[], None, None]\n",
    "  for idx, e in enumerate(arr):\n",
    "    if check_years(e): res[0].append(e)\n",
    "    else:\n",
    "      if check_area(e): res[1] = e\n",
    "      res[2] = ','.join(arr[idx+1:])\n",
    "      break\n",
    "  return res\n",
    "\n",
    "def split_note(note):\n",
    "    if note:\n",
    "        note_s = note.split(') ')\n",
    "        note_vals = [s.strip('(').strip(')') for s in note_s]\n",
    "        note_vals = convert_to_valid(note_vals)\n",
    "        return note_vals\n",
    "    return [None, None, None]\n",
    "\n",
    "split_note_df = movie_companies_df['note'].apply(split_note)\n",
    "columns=['year', 'area', 'remark']\n",
    "movie_companies_df[columns] = pd.DataFrame(split_note_df.to_list(), columns=columns)\n",
    "movie_companies_df.head()"
   ]
  },
  {
   "cell_type": "code",
   "execution_count": 12,
   "metadata": {},
   "outputs": [],
   "source": [
    "min_year = 1850\n",
    "max_year = 2023\n",
    "\n",
    "def get_bin_map(yr):\n",
    "    \"\"\" map year to nearest decade \"\"\"\n",
    "    return (yr-min_year)//10\n",
    "\n",
    "def get_bin_yr(yr):\n",
    "    \"\"\" returns the binned index of the year \"\"\"\n",
    "    if yr:\n",
    "        yr = yr[0] # taking only the first year\n",
    "        if '-' in yr:\n",
    "            yr = yr[:yr.index('-')]\n",
    "        yr = int(yr[:4])\n",
    "        return get_bin_map(yr)"
   ]
  },
  {
   "cell_type": "code",
   "execution_count": 13,
   "metadata": {},
   "outputs": [
    {
     "name": "stdout",
     "output_type": "stream",
     "text": [
      "2609129\n",
      "1121494\n"
     ]
    }
   ],
   "source": [
    "mc_copy = movie_companies_df.copy()\n",
    "mc_copy['year'] = mc_copy['year'].apply(func=get_bin_yr)\n",
    "print(len(mc_copy))\n",
    "print(len(mc_copy[mc_copy['year'].between(0,(max_year-min_year)//10)]))"
   ]
  },
  {
   "cell_type": "code",
   "execution_count": 16,
   "metadata": {},
   "outputs": [],
   "source": [
    "mc_copy[mc_copy['year'].between(0,(max_year-min_year)//10)].to_csv('./out/movie_copmpanies_processed.csv')"
   ]
  },
  {
   "cell_type": "code",
   "execution_count": 14,
   "metadata": {},
   "outputs": [],
   "source": [
    "mc = pd.read_csv('./data/imdb/movie_copmpanies_processed.csv')"
   ]
  },
  {
   "cell_type": "markdown",
   "metadata": {},
   "source": [
    "## Experiments"
   ]
  },
  {
   "cell_type": "code",
   "execution_count": 15,
   "metadata": {},
   "outputs": [
    {
     "data": {
      "text/html": [
       "<div>\n",
       "<style scoped>\n",
       "    .dataframe tbody tr th:only-of-type {\n",
       "        vertical-align: middle;\n",
       "    }\n",
       "\n",
       "    .dataframe tbody tr th {\n",
       "        vertical-align: top;\n",
       "    }\n",
       "\n",
       "    .dataframe thead th {\n",
       "        text-align: right;\n",
       "    }\n",
       "</style>\n",
       "<table border=\"1\" class=\"dataframe\">\n",
       "  <thead>\n",
       "    <tr style=\"text-align: right;\">\n",
       "      <th></th>\n",
       "      <th>Unnamed: 0</th>\n",
       "      <th>id</th>\n",
       "      <th>movie_id</th>\n",
       "      <th>company_id</th>\n",
       "      <th>company_type_id</th>\n",
       "      <th>note</th>\n",
       "      <th>year</th>\n",
       "      <th>area</th>\n",
       "      <th>remark</th>\n",
       "    </tr>\n",
       "  </thead>\n",
       "  <tbody>\n",
       "    <tr>\n",
       "      <th>0</th>\n",
       "      <td>0</td>\n",
       "      <td>1</td>\n",
       "      <td>2</td>\n",
       "      <td>1</td>\n",
       "      <td>1</td>\n",
       "      <td>(2006) (USA) (TV)</td>\n",
       "      <td>15.0</td>\n",
       "      <td>USA</td>\n",
       "      <td>TV</td>\n",
       "    </tr>\n",
       "    <tr>\n",
       "      <th>1</th>\n",
       "      <td>1</td>\n",
       "      <td>2</td>\n",
       "      <td>2</td>\n",
       "      <td>1</td>\n",
       "      <td>1</td>\n",
       "      <td>(2006) (worldwide) (TV)</td>\n",
       "      <td>15.0</td>\n",
       "      <td>worldwide</td>\n",
       "      <td>TV</td>\n",
       "    </tr>\n",
       "    <tr>\n",
       "      <th>2</th>\n",
       "      <td>2</td>\n",
       "      <td>3</td>\n",
       "      <td>11</td>\n",
       "      <td>2</td>\n",
       "      <td>1</td>\n",
       "      <td>(2012) (worldwide) (all media)</td>\n",
       "      <td>16.0</td>\n",
       "      <td>worldwide</td>\n",
       "      <td>all media</td>\n",
       "    </tr>\n",
       "    <tr>\n",
       "      <th>3</th>\n",
       "      <td>3</td>\n",
       "      <td>4</td>\n",
       "      <td>44</td>\n",
       "      <td>3</td>\n",
       "      <td>1</td>\n",
       "      <td>(2013) (USA) (all media)</td>\n",
       "      <td>16.0</td>\n",
       "      <td>USA</td>\n",
       "      <td>all media</td>\n",
       "    </tr>\n",
       "    <tr>\n",
       "      <th>4</th>\n",
       "      <td>4</td>\n",
       "      <td>5</td>\n",
       "      <td>50</td>\n",
       "      <td>4</td>\n",
       "      <td>1</td>\n",
       "      <td>(2011) (UK) (TV)</td>\n",
       "      <td>16.0</td>\n",
       "      <td>UK</td>\n",
       "      <td>TV</td>\n",
       "    </tr>\n",
       "  </tbody>\n",
       "</table>\n",
       "</div>"
      ],
      "text/plain": [
       "   Unnamed: 0  id  movie_id  company_id  company_type_id  \\\n",
       "0           0   1         2           1                1   \n",
       "1           1   2         2           1                1   \n",
       "2           2   3        11           2                1   \n",
       "3           3   4        44           3                1   \n",
       "4           4   5        50           4                1   \n",
       "\n",
       "                             note  year       area     remark  \n",
       "0               (2006) (USA) (TV)  15.0        USA         TV  \n",
       "1         (2006) (worldwide) (TV)  15.0  worldwide         TV  \n",
       "2  (2012) (worldwide) (all media)  16.0  worldwide  all media  \n",
       "3        (2013) (USA) (all media)  16.0        USA  all media  \n",
       "4                (2011) (UK) (TV)  16.0         UK         TV  "
      ]
     },
     "execution_count": 15,
     "metadata": {},
     "output_type": "execute_result"
    }
   ],
   "source": [
    "mc.head()"
   ]
  },
  {
   "cell_type": "code",
   "execution_count": 16,
   "metadata": {},
   "outputs": [
    {
     "data": {
      "text/html": [
       "<div>\n",
       "<style scoped>\n",
       "    .dataframe tbody tr th:only-of-type {\n",
       "        vertical-align: middle;\n",
       "    }\n",
       "\n",
       "    .dataframe tbody tr th {\n",
       "        vertical-align: top;\n",
       "    }\n",
       "\n",
       "    .dataframe thead th {\n",
       "        text-align: right;\n",
       "    }\n",
       "</style>\n",
       "<table border=\"1\" class=\"dataframe\">\n",
       "  <thead>\n",
       "    <tr style=\"text-align: right;\">\n",
       "      <th></th>\n",
       "      <th>id</th>\n",
       "      <th>person_id</th>\n",
       "      <th>movie_id</th>\n",
       "      <th>person_role_id</th>\n",
       "      <th>note</th>\n",
       "      <th>nr_order</th>\n",
       "      <th>role_id</th>\n",
       "    </tr>\n",
       "  </thead>\n",
       "  <tbody>\n",
       "    <tr>\n",
       "      <th>0</th>\n",
       "      <td>1</td>\n",
       "      <td>1</td>\n",
       "      <td>968504</td>\n",
       "      <td>1.0</td>\n",
       "      <td>None</td>\n",
       "      <td>NaN</td>\n",
       "      <td>1</td>\n",
       "    </tr>\n",
       "    <tr>\n",
       "      <th>1</th>\n",
       "      <td>2</td>\n",
       "      <td>2</td>\n",
       "      <td>2163857</td>\n",
       "      <td>1.0</td>\n",
       "      <td>None</td>\n",
       "      <td>25.0</td>\n",
       "      <td>1</td>\n",
       "    </tr>\n",
       "    <tr>\n",
       "      <th>2</th>\n",
       "      <td>3</td>\n",
       "      <td>2</td>\n",
       "      <td>2324528</td>\n",
       "      <td>2.0</td>\n",
       "      <td>None</td>\n",
       "      <td>22.0</td>\n",
       "      <td>1</td>\n",
       "    </tr>\n",
       "    <tr>\n",
       "      <th>3</th>\n",
       "      <td>4</td>\n",
       "      <td>3</td>\n",
       "      <td>1851347</td>\n",
       "      <td>NaN</td>\n",
       "      <td>None</td>\n",
       "      <td>12.0</td>\n",
       "      <td>1</td>\n",
       "    </tr>\n",
       "    <tr>\n",
       "      <th>4</th>\n",
       "      <td>5</td>\n",
       "      <td>4</td>\n",
       "      <td>1681365</td>\n",
       "      <td>3.0</td>\n",
       "      <td>None</td>\n",
       "      <td>NaN</td>\n",
       "      <td>1</td>\n",
       "    </tr>\n",
       "  </tbody>\n",
       "</table>\n",
       "</div>"
      ],
      "text/plain": [
       "   id  person_id  movie_id  person_role_id  note  nr_order  role_id\n",
       "0   1          1    968504             1.0  None       NaN        1\n",
       "1   2          2   2163857             1.0  None      25.0        1\n",
       "2   3          2   2324528             2.0  None      22.0        1\n",
       "3   4          3   1851347             NaN  None      12.0        1\n",
       "4   5          4   1681365             3.0  None       NaN        1"
      ]
     },
     "execution_count": 16,
     "metadata": {},
     "output_type": "execute_result"
    }
   ],
   "source": [
    "cast_info_df.head()"
   ]
  },
  {
   "cell_type": "code",
   "execution_count": 40,
   "metadata": {},
   "outputs": [
    {
     "data": {
      "text/html": [
       "<div>\n",
       "<style scoped>\n",
       "    .dataframe tbody tr th:only-of-type {\n",
       "        vertical-align: middle;\n",
       "    }\n",
       "\n",
       "    .dataframe tbody tr th {\n",
       "        vertical-align: top;\n",
       "    }\n",
       "\n",
       "    .dataframe thead th {\n",
       "        text-align: right;\n",
       "    }\n",
       "</style>\n",
       "<table border=\"1\" class=\"dataframe\">\n",
       "  <thead>\n",
       "    <tr style=\"text-align: right;\">\n",
       "      <th></th>\n",
       "      <th>id</th>\n",
       "      <th>person_id</th>\n",
       "      <th>name</th>\n",
       "      <th>imdb_index</th>\n",
       "      <th>name_pcode_cf</th>\n",
       "      <th>name_pcode_nf</th>\n",
       "      <th>surname_pcode</th>\n",
       "      <th>md5sum</th>\n",
       "    </tr>\n",
       "  </thead>\n",
       "  <tbody>\n",
       "    <tr>\n",
       "      <th>0</th>\n",
       "      <td>1</td>\n",
       "      <td>4061927</td>\n",
       "      <td>Smith, Jessica Noel</td>\n",
       "      <td>None</td>\n",
       "      <td>S5325</td>\n",
       "      <td>J2542</td>\n",
       "      <td>S53</td>\n",
       "      <td>25c9d464e3ff2957533546aa92b397ed</td>\n",
       "    </tr>\n",
       "    <tr>\n",
       "      <th>1</th>\n",
       "      <td>2</td>\n",
       "      <td>4</td>\n",
       "      <td>Short, Too</td>\n",
       "      <td>None</td>\n",
       "      <td>S63</td>\n",
       "      <td>T263</td>\n",
       "      <td>None</td>\n",
       "      <td>4e26116e5f9800cef90c8f8c38de2584</td>\n",
       "    </tr>\n",
       "    <tr>\n",
       "      <th>2</th>\n",
       "      <td>3</td>\n",
       "      <td>2701136</td>\n",
       "      <td>Abdul-Hamid, Jaffar</td>\n",
       "      <td>None</td>\n",
       "      <td>A1345</td>\n",
       "      <td>J1613</td>\n",
       "      <td>None</td>\n",
       "      <td>fb5126fe9992e13156c636d726cec257</td>\n",
       "    </tr>\n",
       "    <tr>\n",
       "      <th>3</th>\n",
       "      <td>4</td>\n",
       "      <td>2701136</td>\n",
       "      <td>Al-Hamid, Jaffar Abd</td>\n",
       "      <td>None</td>\n",
       "      <td>A4532</td>\n",
       "      <td>J1613</td>\n",
       "      <td>A453</td>\n",
       "      <td>179ad5f75c84c4bddd6733c66b6b0bb7</td>\n",
       "    </tr>\n",
       "    <tr>\n",
       "      <th>4</th>\n",
       "      <td>5</td>\n",
       "      <td>15</td>\n",
       "      <td>Viera, Michael 'Power'</td>\n",
       "      <td>None</td>\n",
       "      <td>V6524</td>\n",
       "      <td>M2416</td>\n",
       "      <td>V6</td>\n",
       "      <td>354cea2b99f8b1f745ea6092eefa2bd7</td>\n",
       "    </tr>\n",
       "  </tbody>\n",
       "</table>\n",
       "</div>"
      ],
      "text/plain": [
       "   id  person_id                    name imdb_index name_pcode_cf  \\\n",
       "0   1    4061927     Smith, Jessica Noel       None         S5325   \n",
       "1   2          4              Short, Too       None           S63   \n",
       "2   3    2701136     Abdul-Hamid, Jaffar       None         A1345   \n",
       "3   4    2701136    Al-Hamid, Jaffar Abd       None         A4532   \n",
       "4   5         15  Viera, Michael 'Power'       None         V6524   \n",
       "\n",
       "  name_pcode_nf surname_pcode                            md5sum  \n",
       "0         J2542           S53  25c9d464e3ff2957533546aa92b397ed  \n",
       "1          T263          None  4e26116e5f9800cef90c8f8c38de2584  \n",
       "2         J1613          None  fb5126fe9992e13156c636d726cec257  \n",
       "3         J1613          A453  179ad5f75c84c4bddd6733c66b6b0bb7  \n",
       "4         M2416            V6  354cea2b99f8b1f745ea6092eefa2bd7  "
      ]
     },
     "execution_count": 40,
     "metadata": {},
     "output_type": "execute_result"
    }
   ],
   "source": [
    "aka_name.head()"
   ]
  },
  {
   "cell_type": "code",
   "execution_count": 41,
   "metadata": {},
   "outputs": [
    {
     "data": {
      "text/html": [
       "<div>\n",
       "<style scoped>\n",
       "    .dataframe tbody tr th:only-of-type {\n",
       "        vertical-align: middle;\n",
       "    }\n",
       "\n",
       "    .dataframe tbody tr th {\n",
       "        vertical-align: top;\n",
       "    }\n",
       "\n",
       "    .dataframe thead th {\n",
       "        text-align: right;\n",
       "    }\n",
       "</style>\n",
       "<table border=\"1\" class=\"dataframe\">\n",
       "  <thead>\n",
       "    <tr style=\"text-align: right;\">\n",
       "      <th></th>\n",
       "      <th>id</th>\n",
       "      <th>name</th>\n",
       "      <th>imdb_index</th>\n",
       "      <th>imdb_id</th>\n",
       "      <th>gender</th>\n",
       "      <th>name_pcode_cf</th>\n",
       "      <th>name_pcode_nf</th>\n",
       "      <th>surname_pcode</th>\n",
       "      <th>md5sum</th>\n",
       "    </tr>\n",
       "  </thead>\n",
       "  <tbody>\n",
       "    <tr>\n",
       "      <th>0</th>\n",
       "      <td>3343</td>\n",
       "      <td>Abela, Mike</td>\n",
       "      <td>None</td>\n",
       "      <td>None</td>\n",
       "      <td>m</td>\n",
       "      <td>A1452</td>\n",
       "      <td>M214</td>\n",
       "      <td>A14</td>\n",
       "      <td>61f733c0298a7cb5a461fd787a655d70</td>\n",
       "    </tr>\n",
       "    <tr>\n",
       "      <th>1</th>\n",
       "      <td>446</td>\n",
       "      <td>A., David</td>\n",
       "      <td>None</td>\n",
       "      <td>None</td>\n",
       "      <td>m</td>\n",
       "      <td>A313</td>\n",
       "      <td>D13</td>\n",
       "      <td>A</td>\n",
       "      <td>cf45e7b42fbc800c61462988ad1156d2</td>\n",
       "    </tr>\n",
       "    <tr>\n",
       "      <th>2</th>\n",
       "      <td>126</td>\n",
       "      <td>-Alverio, Esteban Rodriguez</td>\n",
       "      <td>None</td>\n",
       "      <td>None</td>\n",
       "      <td>m</td>\n",
       "      <td>A4162</td>\n",
       "      <td>E2315</td>\n",
       "      <td>A416</td>\n",
       "      <td>f5c410bff6839b545d04c531f776e8f2</td>\n",
       "    </tr>\n",
       "    <tr>\n",
       "      <th>3</th>\n",
       "      <td>1678</td>\n",
       "      <td>Abbas, Athar</td>\n",
       "      <td>None</td>\n",
       "      <td>None</td>\n",
       "      <td>m</td>\n",
       "      <td>A1236</td>\n",
       "      <td>A3612</td>\n",
       "      <td>A12</td>\n",
       "      <td>cf230f6ed718a330dc688c20b8d741d3</td>\n",
       "    </tr>\n",
       "    <tr>\n",
       "      <th>4</th>\n",
       "      <td>3610</td>\n",
       "      <td>Aberer, Leo</td>\n",
       "      <td>None</td>\n",
       "      <td>None</td>\n",
       "      <td>m</td>\n",
       "      <td>A164</td>\n",
       "      <td>L16</td>\n",
       "      <td>A16</td>\n",
       "      <td>05684f16b84db387e613d3de57eca5b7</td>\n",
       "    </tr>\n",
       "  </tbody>\n",
       "</table>\n",
       "</div>"
      ],
      "text/plain": [
       "     id                         name imdb_index imdb_id gender name_pcode_cf  \\\n",
       "0  3343                  Abela, Mike       None    None      m         A1452   \n",
       "1   446                    A., David       None    None      m          A313   \n",
       "2   126  -Alverio, Esteban Rodriguez       None    None      m         A4162   \n",
       "3  1678                 Abbas, Athar       None    None      m         A1236   \n",
       "4  3610                  Aberer, Leo       None    None      m          A164   \n",
       "\n",
       "  name_pcode_nf surname_pcode                            md5sum  \n",
       "0          M214           A14  61f733c0298a7cb5a461fd787a655d70  \n",
       "1           D13             A  cf45e7b42fbc800c61462988ad1156d2  \n",
       "2         E2315          A416  f5c410bff6839b545d04c531f776e8f2  \n",
       "3         A3612           A12  cf230f6ed718a330dc688c20b8d741d3  \n",
       "4           L16           A16  05684f16b84db387e613d3de57eca5b7  "
      ]
     },
     "execution_count": 41,
     "metadata": {},
     "output_type": "execute_result"
    }
   ],
   "source": [
    "name = name[name['gender'].isna()==False]\n",
    "name.head()"
   ]
  },
  {
   "cell_type": "markdown",
   "metadata": {},
   "source": [
    "#### SQL Join queries\n",
    "\n",
    "SELECT * \\\n",
    "FROM aka_name \\\n",
    "JOIN name ON aka_name.person_id = name.id \\\n",
    "JOIN cast_info ON cast_info.person_id = name.id"
   ]
  },
  {
   "cell_type": "code",
   "execution_count": 42,
   "metadata": {},
   "outputs": [],
   "source": [
    "# time taken = 3.8s\n",
    "joined_df = pd.merge(aka_name, name, left_on='person_id', right_on='id', how='inner')"
   ]
  },
  {
   "cell_type": "code",
   "execution_count": 44,
   "metadata": {},
   "outputs": [
    {
     "data": {
      "text/plain": [
       "Index(['id_x', 'person_id', 'name_x', 'imdb_index_x', 'name_pcode_cf_x',\n",
       "       'name_pcode_nf_x', 'surname_pcode_x', 'md5sum_x', 'id_y', 'name_y',\n",
       "       'imdb_index_y', 'imdb_id', 'gender', 'name_pcode_cf_y',\n",
       "       'name_pcode_nf_y', 'surname_pcode_y', 'md5sum_y'],\n",
       "      dtype='object')"
      ]
     },
     "execution_count": 44,
     "metadata": {},
     "output_type": "execute_result"
    }
   ],
   "source": [
    "joined_df.columns"
   ]
  },
  {
   "cell_type": "code",
   "execution_count": 26,
   "metadata": {},
   "outputs": [],
   "source": [
    "aka_name_join_idx = joined_df['id_x']\n",
    "name_join_idx = joined_df['id_y']"
   ]
  },
  {
   "cell_type": "code",
   "execution_count": 20,
   "metadata": {},
   "outputs": [],
   "source": [
    "selected_cols = ['gender', 'id_x', 'person_id']\n",
    "sensitive_attr = 'gender'"
   ]
  },
  {
   "cell_type": "code",
   "execution_count": 21,
   "metadata": {},
   "outputs": [
    {
     "data": {
      "text/plain": [
       "m    385379\n",
       "f    193486\n",
       "Name: gender, dtype: int64"
      ]
     },
     "execution_count": 21,
     "metadata": {},
     "output_type": "execute_result"
    }
   ],
   "source": [
    "joined_df = joined_df[selected_cols]\n",
    "joined_df['gender'].value_counts()"
   ]
  },
  {
   "cell_type": "code",
   "execution_count": 23,
   "metadata": {},
   "outputs": [
    {
     "data": {
      "image/png": "[encoded data removed]",
      "text/plain": [
       "<Figure size 640x480 with 1 Axes>"
      ]
     },
     "metadata": {},
     "output_type": "display_data"
    }
   ],
   "source": [
    "\"\"\" population distribution of sensitive attributes \"\"\"\n",
    "\n",
    "sns.histplot(data=joined_df, x='gender')\n",
    "\n",
    "# Set labels for the x-axis, y-axis, and title\n",
    "plt.xlabel('Gender')\n",
    "plt.ylabel('Count')\n",
    "plt.title('Distribution of Sensitive Attributes')\n",
    "plt.savefig('./out/gender_dist_actual_join.png')\n",
    "plt.show()"
   ]
  },
  {
   "cell_type": "code",
   "execution_count": 50,
   "metadata": {},
   "outputs": [],
   "source": [
    "aka_name_cols = ['person_id', 'id']\n",
    "name_cols = ['id', 'name', 'gender']"
   ]
  },
  {
   "cell_type": "code",
   "execution_count": 60,
   "metadata": {},
   "outputs": [],
   "source": [
    "def get_sampled_dfs(f):\n",
    "    return (joined_df.sample(frac=f), \n",
    "    aka_name.filter(items=aka_name_cols)[aka_name['person_id'].isin(joined_df['person_id'])].sample(frac=f), \n",
    "    name.filter(items=name_cols)[name['id'].isin(joined_df['id_y'])].sample(frac=f))"
   ]
  },
  {
   "cell_type": "code",
   "execution_count": 55,
   "metadata": {},
   "outputs": [],
   "source": [
    "dfs = [\n",
    "    joined_df,\n",
    "    name,\n",
    "    aka_name\n",
    "]\n",
    "\n",
    "sampling_rates = [0.005,0.01,0.015,0.02]\n",
    "for f in sampling_rates:\n",
    "    sampled_dfs = get_sampled_dfs(f)\n",
    "    "
   ]
  },
  {
   "cell_type": "code",
   "execution_count": 108,
   "metadata": {},
   "outputs": [],
   "source": [
    "from numpy.random import binomial\n",
    "\n",
    "seed = 42\n",
    "np.random.seed(seed)\n"
   ]
  },
  {
   "cell_type": "code",
   "execution_count": 118,
   "metadata": {},
   "outputs": [],
   "source": [
    "def stratified_sampling(df, frac, col):\n",
    "    \"\"\" Samples uniformly within stratas (or groups) within column col in dataframe df\"\"\"\n",
    "    groups = df.groupby(col)\n",
    "    sample_sizes = (groups.size() * frac).astype(int)\n",
    "    \n",
    "    sampled_rows = []\n",
    "    for group_name, group in groups:\n",
    "        if sample_sizes[group_name] > 0:\n",
    "            sampled_rows.append(group.sample(n=sample_sizes[group_name], replace=False))\n",
    "\n",
    "    sampled_df = pd.concat(sampled_rows)\n",
    "    sampled_df = sampled_df.sample(frac=1, random_state=seed)\n",
    "    return sampled_df\n",
    "\n",
    "\n",
    "def bernoulli_sampling(df, frac, p=0.5):\n",
    "    \"\"\" Bernoulli sampling \"\"\"\n",
    "    mask = np.random.binomial(1, p, len(df)) == 1 \n",
    "    return df[mask].sample(round(frac*len(df)), replace=False, random_state=seed) \n",
    "\n",
    "\n",
    "def uniform_sampling(df, frac):\n",
    "    \"\"\" Uniform sampling \"\"\"\n",
    "    return df.sample(frac=frac, random_state=seed)"
   ]
  },
  {
   "cell_type": "markdown",
   "metadata": {},
   "source": [
    "## Correlation-aware Sampling\n",
    "\n",
    "Here we sample "
   ]
  },
  {
   "cell_type": "code",
   "execution_count": 119,
   "metadata": {},
   "outputs": [],
   "source": [
    "import random\n",
    "import math\n",
    "\n",
    "N = 100000007\n",
    "def compute_hash(v):\n",
    "    \"\"\" Computes the hash for a list-like value v \"\"\"\n",
    "    k = random.randint(1, math.inf)\n",
    "    b = random.randint(1, math.inf)\n",
    "    return (k * v + b) % N\n",
    "\n",
    "\n",
    "\n",
    "def correlation_sampling(df, sattr, frac):\n",
    "    \n",
    "    return df"
   ]
  },
  {
   "cell_type": "code",
   "execution_count": 120,
   "metadata": {},
   "outputs": [],
   "source": [
    "BERNOULLI = 'Bernoulli'\n",
    "STRATIFIED = 'Stratified'\n",
    "UNIFORM = 'Uniform'\n",
    "CORRELATION_AWARE = 'Correlation'\n",
    "\n",
    "SAMPLING_TECHNIQUES = {BERNOULLI:bernoulli_sampling, \n",
    "                        STRATIFIED:stratified_sampling, \n",
    "                        UNIFORM:uniform_sampling}#, \n",
    "                        #CORRELATION_AWARE:correlation_sampling}"
   ]
  },
  {
   "cell_type": "code",
   "execution_count": 121,
   "metadata": {},
   "outputs": [],
   "source": [
    "sampling_rates = [0.005, 0.01, 0.015, 0.02]\n",
    "sampled_join_dict = {}"
   ]
  },
  {
   "cell_type": "code",
   "execution_count": 127,
   "metadata": {},
   "outputs": [
    {
     "name": "stdout",
     "output_type": "stream",
     "text": [
      "Current sampling technique: Bernoulli\n",
      "     Sampling rate: 0.005 DONE\n",
      "     Sampling rate: 0.01 DONE\n",
      "     Sampling rate: 0.015 DONE\n",
      "     Sampling rate: 0.02 DONE\n",
      "Current sampling technique: Stratified\n",
      "     Sampling rate: 0.005 DONE\n",
      "     Sampling rate: 0.01 DONE\n",
      "     Sampling rate: 0.015 DONE\n",
      "     Sampling rate: 0.02 DONE\n",
      "Current sampling technique: Uniform\n",
      "     Sampling rate: 0.005 DONE\n",
      "     Sampling rate: 0.01 DONE\n",
      "     Sampling rate: 0.015 DONE\n",
      "     Sampling rate: 0.02 DONE\n",
      "{'Bernoulli': {0.005: {'m': 13, 'f': 10}, 0.01: {'m': 47, 'f': 17}, 0.015: {'m': 96, 'f': 58}, 0.02: {'m': 153, 'f': 85}}, 'Stratified': {0.005: {'m': 153, 'f': 85}, 0.01: {'m': 153, 'f': 85}, 0.015: {'m': 153, 'f': 85}, 0.02: {'m': 153, 'f': 85}}, 'Uniform': {0.005: {'m': 13, 'f': 5}, 0.01: {'m': 39, 'f': 23}, 0.015: {'m': 85, 'f': 48}, 0.02: {'m': 149, 'f': 86}}}\n"
     ]
    }
   ],
   "source": [
    "\"\"\"\n",
    "Compute the demographic parities of the sensitive attribute for different sampling rates\n",
    "\"\"\"\n",
    "\n",
    "for technique in SAMPLING_TECHNIQUES:\n",
    "    print(f'Current sampling technique: {technique}')\n",
    "    join_dict = {}\n",
    "    for frac in sampling_rates:\n",
    "        if technique in [BERNOULLI, UNIFORM]:\n",
    "            sname = SAMPLING_TECHNIQUES[technique](name, frac)\n",
    "            sakaname = SAMPLING_TECHNIQUES[technique](aka_name, frac)\n",
    "            sjoin = pd.merge(sakaname, sname, left_on='person_id', right_on='id', how='inner')\n",
    "        join_dict[frac] = sjoin['gender'].value_counts().to_dict()\n",
    "        print(f'     Sampling rate: {frac} DONE')\n",
    "    sampled_join_dict[technique] = join_dict\n",
    "print(sampled_join_dict)"
   ]
  },
  {
   "cell_type": "code",
   "execution_count": 128,
   "metadata": {},
   "outputs": [
    {
     "name": "stdout",
     "output_type": "stream",
     "text": [
      "{'Bernoulli': {0.005: {'m': 13, 'f': 10}, 0.01: {'m': 47, 'f': 17}, 0.015: {'m': 96, 'f': 58}, 0.02: {'m': 153, 'f': 85}}, 'Stratified': {0.005: {'m': 153, 'f': 85}, 0.01: {'m': 153, 'f': 85}, 0.015: {'m': 153, 'f': 85}, 0.02: {'m': 153, 'f': 85}}, 'Uniform': {0.005: {'m': 13, 'f': 5}, 0.01: {'m': 39, 'f': 23}, 0.015: {'m': 85, 'f': 48}, 0.02: {'m': 149, 'f': 86}}}\n",
      "{'Bernoulli': {0.005: {'m': 565.2173913043478, 'f': 434.7826086956522}, 0.01: {'m': 734.375, 'f': 265.625}, 0.015: {'m': 623.3766233766233, 'f': 376.62337662337666}, 0.02: {'m': 642.8571428571429, 'f': 357.14285714285717}}, 'Stratified': {0.005: {'m': 642.8571428571429, 'f': 357.14285714285717}, 0.01: {'m': 642.8571428571429, 'f': 357.14285714285717}, 0.015: {'m': 642.8571428571429, 'f': 357.14285714285717}, 0.02: {'m': 642.8571428571429, 'f': 357.14285714285717}}, 'Uniform': {0.005: {'m': 722.2222222222222, 'f': 277.77777777777777}, 0.01: {'m': 629.0322580645161, 'f': 370.9677419354839}, 0.015: {'m': 639.0977443609023, 'f': 360.90225563909775}, 0.02: {'m': 634.0425531914893, 'f': 365.9574468085106}}}\n"
     ]
    }
   ],
   "source": [
    "def normalize_dicts(d):\n",
    "    d_norm = {}\n",
    "    for k, vdicts in d.items():\n",
    "        total = sum(vdicts.values())\n",
    "        temp = {}\n",
    "        for key, _ in vdicts.items():\n",
    "            temp[key] = (vdicts[key]/total)*1000\n",
    "        d_norm[k] = temp\n",
    "    return d_norm\n",
    "\n",
    "\n",
    "sampled_join_dict_norm = {}\n",
    "for k,v in sampled_join_dict.items():\n",
    "    sampled_join_dict_norm[k] = normalize_dicts(v)\n",
    "\n",
    "print(sampled_join_dict)\n",
    "print(sampled_join_dict_norm)"
   ]
  },
  {
   "cell_type": "code",
   "execution_count": 129,
   "metadata": {},
   "outputs": [
    {
     "name": "stdout",
     "output_type": "stream",
     "text": [
      "{'m': 665.7493543399584, 'f': 334.25064566004164}\n"
     ]
    }
   ],
   "source": [
    "total_join = len(joined_df)\n",
    "join_dict = joined_df['gender'].value_counts()\n",
    "join_dict_norm = {}\n",
    "for k,v in join_dict.items():\n",
    "    join_dict_norm[k] = (join_dict[k]/total_join)*1000\n",
    "print(join_dict_norm)"
   ]
  },
  {
   "cell_type": "code",
   "execution_count": 133,
   "metadata": {},
   "outputs": [],
   "source": [
    "def save_parity_plot(expjoin, smpljoin, technique):\n",
    "    fig, axs = plt.subplots()\n",
    "    sns.scatterplot(x=smpljoin.keys(), y=[d['m'] for d in smpljoin.values()], linestyle='--', marker='o', label=\"'m' in sampled join\")\n",
    "    sns.scatterplot(x=smpljoin.keys(), y=[d['f'] for d in smpljoin.values()], linestyle='--', marker='o', label=\"'f' in sampled join\")\n",
    "    plt.axhline(y=expjoin['m'], color=\"b\", linestyle=\"--\", label=\"'m' in explicit join\")\n",
    "    plt.axhline(y=expjoin['f'], color=\"r\", linestyle=\"--\", label=\"'f' in explicit join\")\n",
    "    plt.xlabel('Sampling rate %')\n",
    "    plt.ylabel('Group Parity x 10^3')\n",
    "    plt.title(f'{technique} Sampling', loc='center')\n",
    "    plt.legend()\n",
    "    # sns.scatterplot(data=sampled_join_dict, linestyle='--', marker='o')\n",
    "    # sns.scatterplot(data=, linestyle='--', marker='o')\n",
    "    plt.savefig(f'./out/{technique.lower()}_sampling_parity.png')"
   ]
  },
  {
   "cell_type": "code",
   "execution_count": 135,
   "metadata": {},
   "outputs": [
    {
     "data": {
      "image/png": "[encoded data removed]",
      "text/plain": [
       "<Figure size 640x480 with 1 Axes>"
      ]
     },
     "metadata": {},
     "output_type": "display_data"
    }
   ],
   "source": [
    "save_parity_plot(join_dict_norm, sampled_join_dict_norm[STRATIFIED], \"Correlation-aware\")"
   ]
  },
  {
   "cell_type": "code",
   "execution_count": 131,
   "metadata": {},
   "outputs": [
    {
     "data": {
      "image/png": "[encoded data removed]",
      "text/plain": [
       "<Figure size 640x480 with 1 Axes>"
      ]
     },
     "metadata": {},
     "output_type": "display_data"
    },
    {
     "data": {
      "image/png": "[encoded data removed]",
      "text/plain": [
       "<Figure size 640x480 with 1 Axes>"
      ]
     },
     "metadata": {},
     "output_type": "display_data"
    },
    {
     "data": {
      "image/png": "[encoded data removed]",
      "text/plain": [
       "<Figure size 640x480 with 1 Axes>"
      ]
     },
     "metadata": {},
     "output_type": "display_data"
    }
   ],
   "source": [
    "for technique in SAMPLING_TECHNIQUES:\n",
    "    save_parity_plot(join_dict_norm, sampled_join_dict_norm[technique], technique)"
   ]
  },
  {
   "cell_type": "code",
   "execution_count": 1,
   "metadata": {},
   "outputs": [],
   "source": [
    "# T is a list of dataframes\n",
    "# T[i].Fk is the foreign key\n",
    "# psuedocode for algorithm in chapter 4\n",
    "\n",
    "def get_db_join_result(T_sample, fk_sample):\n",
    "    pass\n",
    "\n",
    "def correlation_aware_sample(fk_set,e):\n",
    "    return fk_set.sample()\n",
    "\n",
    "def is_fair_join(RQ, e):\n",
    "    S = RQ.S # Sensitive attribute\n",
    "    n = len(RQ)\n",
    "    groups, group_counts = np.unique(S, return_counts=True) # unique groups\n",
    "    group_parity = [c/n for c in group_counts] \n",
    "    return min(group_parity)/max(group_parity) >= e\n",
    "\n",
    "def fairness_aware_approx_joins(T: list, e) -> bool:\n",
    "    if len(T) == 0:\n",
    "        return None\n",
    "    fk_set = T[0].Fk  # initialize with first table's foreign key\n",
    "    for Ti in T:\n",
    "        fk_set = fk_set.intersection(Ti.Fk)\n",
    "        \n",
    "    fk_sample = correlation_aware_sample(fk_set, frac, e)\n",
    "\n",
    "    # fk_sample = sample(fk_set, frac, e)\n",
    "    T_sample = [Ti[fk_sample.index] for Ti in T]\n",
    "    RQ = get_db_join_result(T_sample, fk_sample)\n",
    "    return is_fair_join(RQ, e)\n",
    "\n",
    "    \n"
   ]
  },
  {
   "cell_type": "code",
   "execution_count": 18,
   "metadata": {},
   "outputs": [
    {
     "data": {
      "text/html": [
       "<div>\n",
       "<style scoped>\n",
       "    .dataframe tbody tr th:only-of-type {\n",
       "        vertical-align: middle;\n",
       "    }\n",
       "\n",
       "    .dataframe tbody tr th {\n",
       "        vertical-align: top;\n",
       "    }\n",
       "\n",
       "    .dataframe thead th {\n",
       "        text-align: right;\n",
       "    }\n",
       "</style>\n",
       "<table border=\"1\" class=\"dataframe\">\n",
       "  <thead>\n",
       "    <tr style=\"text-align: right;\">\n",
       "      <th></th>\n",
       "      <th>id</th>\n",
       "      <th>name</th>\n",
       "      <th>imdb_index</th>\n",
       "      <th>imdb_id</th>\n",
       "      <th>gender</th>\n",
       "      <th>name_pcode_cf</th>\n",
       "      <th>name_pcode_nf</th>\n",
       "      <th>surname_pcode</th>\n",
       "      <th>md5sum</th>\n",
       "      <th>person_id</th>\n",
       "      <th>movie_id</th>\n",
       "      <th>person_role_id</th>\n",
       "      <th>note</th>\n",
       "      <th>nr_order</th>\n",
       "      <th>role_id</th>\n",
       "    </tr>\n",
       "  </thead>\n",
       "  <tbody>\n",
       "    <tr>\n",
       "      <th>0</th>\n",
       "      <td>3343</td>\n",
       "      <td>Abela, Mike</td>\n",
       "      <td>None</td>\n",
       "      <td>None</td>\n",
       "      <td>m</td>\n",
       "      <td>A1452</td>\n",
       "      <td>M214</td>\n",
       "      <td>A14</td>\n",
       "      <td>61f733c0298a7cb5a461fd787a655d70</td>\n",
       "      <td>750</td>\n",
       "      <td>405526</td>\n",
       "      <td>789.0</td>\n",
       "      <td>None</td>\n",
       "      <td>10.0</td>\n",
       "      <td>1</td>\n",
       "    </tr>\n",
       "    <tr>\n",
       "      <th>1</th>\n",
       "      <td>446</td>\n",
       "      <td>A., David</td>\n",
       "      <td>None</td>\n",
       "      <td>None</td>\n",
       "      <td>m</td>\n",
       "      <td>A313</td>\n",
       "      <td>D13</td>\n",
       "      <td>A</td>\n",
       "      <td>cf45e7b42fbc800c61462988ad1156d2</td>\n",
       "      <td>159</td>\n",
       "      <td>2214104</td>\n",
       "      <td>NaN</td>\n",
       "      <td>None</td>\n",
       "      <td>NaN</td>\n",
       "      <td>1</td>\n",
       "    </tr>\n",
       "    <tr>\n",
       "      <th>2</th>\n",
       "      <td>126</td>\n",
       "      <td>-Alverio, Esteban Rodriguez</td>\n",
       "      <td>None</td>\n",
       "      <td>None</td>\n",
       "      <td>m</td>\n",
       "      <td>A4162</td>\n",
       "      <td>E2315</td>\n",
       "      <td>A416</td>\n",
       "      <td>f5c410bff6839b545d04c531f776e8f2</td>\n",
       "      <td>31</td>\n",
       "      <td>1484917</td>\n",
       "      <td>1.0</td>\n",
       "      <td>None</td>\n",
       "      <td>NaN</td>\n",
       "      <td>1</td>\n",
       "    </tr>\n",
       "    <tr>\n",
       "      <th>3</th>\n",
       "      <td>1678</td>\n",
       "      <td>Abbas, Athar</td>\n",
       "      <td>None</td>\n",
       "      <td>None</td>\n",
       "      <td>m</td>\n",
       "      <td>A1236</td>\n",
       "      <td>A3612</td>\n",
       "      <td>A12</td>\n",
       "      <td>cf230f6ed718a330dc688c20b8d741d3</td>\n",
       "      <td>471</td>\n",
       "      <td>849284</td>\n",
       "      <td>1.0</td>\n",
       "      <td>(archive footage)</td>\n",
       "      <td>NaN</td>\n",
       "      <td>1</td>\n",
       "    </tr>\n",
       "    <tr>\n",
       "      <th>4</th>\n",
       "      <td>3610</td>\n",
       "      <td>Aberer, Leo</td>\n",
       "      <td>None</td>\n",
       "      <td>None</td>\n",
       "      <td>m</td>\n",
       "      <td>A164</td>\n",
       "      <td>L16</td>\n",
       "      <td>A16</td>\n",
       "      <td>05684f16b84db387e613d3de57eca5b7</td>\n",
       "      <td>771</td>\n",
       "      <td>166286</td>\n",
       "      <td>889.0</td>\n",
       "      <td>None</td>\n",
       "      <td>10.0</td>\n",
       "      <td>1</td>\n",
       "    </tr>\n",
       "  </tbody>\n",
       "</table>\n",
       "</div>"
      ],
      "text/plain": [
       "     id                         name imdb_index imdb_id gender name_pcode_cf  \\\n",
       "0  3343                  Abela, Mike       None    None      m         A1452   \n",
       "1   446                    A., David       None    None      m          A313   \n",
       "2   126  -Alverio, Esteban Rodriguez       None    None      m         A4162   \n",
       "3  1678                 Abbas, Athar       None    None      m         A1236   \n",
       "4  3610                  Aberer, Leo       None    None      m          A164   \n",
       "\n",
       "  name_pcode_nf surname_pcode                            md5sum  person_id  \\\n",
       "0          M214           A14  61f733c0298a7cb5a461fd787a655d70        750   \n",
       "1           D13             A  cf45e7b42fbc800c61462988ad1156d2        159   \n",
       "2         E2315          A416  f5c410bff6839b545d04c531f776e8f2         31   \n",
       "3         A3612           A12  cf230f6ed718a330dc688c20b8d741d3        471   \n",
       "4           L16           A16  05684f16b84db387e613d3de57eca5b7        771   \n",
       "\n",
       "   movie_id  person_role_id               note  nr_order  role_id  \n",
       "0    405526           789.0               None      10.0        1  \n",
       "1   2214104             NaN               None       NaN        1  \n",
       "2   1484917             1.0               None       NaN        1  \n",
       "3    849284             1.0  (archive footage)       NaN        1  \n",
       "4    166286           889.0               None      10.0        1  "
      ]
     },
     "execution_count": 18,
     "metadata": {},
     "output_type": "execute_result"
    }
   ],
   "source": [
    "name_cast_df = pd.merge(name, cast_info_df, left_on='id', right_on='id', how='inner')\n",
    "name_cast_df.head()"
   ]
  }
 ],
 "metadata": {
  "interpreter": {
   "hash": "5df612ae04d1295bb1e74bfa3cdd4499bd1c0c3cef4cf69b8f0e3eb775a04a22"
  },
  "kernelspec": {
   "display_name": "Python 3.8.16 ('nl4db-env')",
   "language": "python",
   "name": "python3"
  },
  "language_info": {
   "codemirror_mode": {
    "name": "ipython",
    "version": 3
   },
   "file_extension": ".py",
   "mimetype": "text/x-python",
   "name": "python",
   "nbconvert_exporter": "python",
   "pygments_lexer": "ipython3",
   "version": "3.8.16"
  },
  "orig_nbformat": 4
 },
 "nbformat": 4,
 "nbformat_minor": 2
}
